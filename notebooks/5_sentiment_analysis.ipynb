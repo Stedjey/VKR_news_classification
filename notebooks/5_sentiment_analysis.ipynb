{
 "cells": [
  {
   "cell_type": "code",
   "execution_count": null,
   "id": "4d182bce",
   "metadata": {},
   "outputs": [
    {
     "name": "stderr",
     "output_type": "stream",
     "text": [
      "Device set to use cpu\n"
     ]
    },
    {
     "name": "stdout",
     "output_type": "stream",
     "text": [
      "Настроение текста: Положительное с уверенностью 0.98\n"
     ]
    }
   ],
   "source": [
    "# определение тональности\n",
    "from transformers import pipeline\n",
    "\n",
    "# Загрузка модели анализа тональности\n",
    "sentiment_model = \"sismetanin/rubert-ru-sentiment-rusentiment\"\n",
    "sentiment_analyzer = pipeline(\"sentiment-analysis\", model=sentiment_model)\n",
    "\n",
    "# Пример текста \n",
    "text = \"Я так рад этому прекрасному событию!\"\n",
    "\n",
    "# Анализ тональности\n",
    "sentiment = sentiment_analyzer(text)\n",
    "\n",
    "# Преобразуем LABEL_1 в читаемое значение\n",
    "labels = { 'LABEL_0': 'Отрицательное', 'LABEL_1': 'Нейтральное', 'LABEL_2': 'Положительное' }\n",
    "\n",
    "# Вывод результатов\n",
    "label = sentiment[0]['label']\n",
    "confidence = sentiment[0]['score']\n",
    "print(f\"Тональность текста: {labels[label]} с уверенностью {confidence:.2f}\")"
   ]
  },
  {
   "cell_type": "code",
   "execution_count": null,
   "id": "05fbc318",
   "metadata": {},
   "outputs": [
    {
     "name": "stderr",
     "output_type": "stream",
     "text": [
      "Device set to use cpu\n"
     ]
    },
    {
     "name": "stdout",
     "output_type": "stream",
     "text": [
      "Эмоция: восхищение, уверенность: 0.78240567445755\n"
     ]
    }
   ],
   "source": [
    "# определение эмоций\n",
    "from transformers import pipeline\n",
    "\n",
    "# Загрузка модели\n",
    "model = pipeline(model=\"seara/rubert-tiny2-ru-go-emotions\")\n",
    "\n",
    "# Словарь для преобразования меток на английском языке в русский\n",
    "labels_map = {\n",
    "    'admiration': 'восхищение',\n",
    "    'amusement': 'веселье',\n",
    "    'anger': 'злость',\n",
    "    'annoyance': 'раздражение',\n",
    "    'approval': 'одобрение',\n",
    "    'caring': 'забота',\n",
    "    'confusion': 'непонимание',\n",
    "    'curiosity': 'любопытство',\n",
    "    'desire': 'желание',\n",
    "    'disappointment': 'разочарование',\n",
    "    'disapproval': 'неодобрение',\n",
    "    'disgust': 'отвращение',\n",
    "    'embarrassment': 'смущение',\n",
    "    'excitement': 'возбуждение',\n",
    "    'fear': 'страх',\n",
    "    'gratitude': 'признательность',\n",
    "    'grief': 'горе',\n",
    "    'joy': 'радость',\n",
    "    'love': 'любовь',\n",
    "    'nervousness': 'нервозность',\n",
    "    'optimism': 'оптимизм',\n",
    "    'pride': 'гордость',\n",
    "    'realization': 'осознание',\n",
    "    'relief': 'облегчение',\n",
    "    'remorse': 'раскаяние',\n",
    "    'sadness': 'грусть',\n",
    "    'surprise': 'удивление',\n",
    "    'neutral': 'нейтральность'\n",
    "}\n",
    "\n",
    "# Текст для анализа\n",
    "text = \"Я так рад этому прекрасному событию!\"\n",
    "\n",
    "# Получение результата от модели\n",
    "result = model(text)\n",
    "\n",
    "# Преобразование метки на русский\n",
    "translated_label = labels_map.get(result[0]['label'], result[0]['label'])\n",
    "\n",
    "# Вывод результата\n",
    "print(f\"Эмоция: {translated_label}, уверенность: {result[0]['score']}\")\n"
   ]
  }
 ],
 "metadata": {
  "kernelspec": {
   "display_name": ".venv",
   "language": "python",
   "name": "python3"
  },
  "language_info": {
   "codemirror_mode": {
    "name": "ipython",
    "version": 3
   },
   "file_extension": ".py",
   "mimetype": "text/x-python",
   "name": "python",
   "nbconvert_exporter": "python",
   "pygments_lexer": "ipython3",
   "version": "3.11.4"
  }
 },
 "nbformat": 4,
 "nbformat_minor": 5
}
